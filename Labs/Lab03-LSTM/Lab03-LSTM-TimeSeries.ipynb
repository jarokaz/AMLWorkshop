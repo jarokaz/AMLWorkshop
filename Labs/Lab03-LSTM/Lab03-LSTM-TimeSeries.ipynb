{
 "cells": [
  {
   "cell_type": "markdown",
   "metadata": {},
   "source": [
    "# Time series prediction with LSTM (IOT Data)\n",
    "\n",
    "![](https://www.cntk.ai/jup/rooftop-solar-power.jpg)\n",
    "\n",
    "[Solar power forecasting](https://en.wikipedia.org/wiki/Solar_power_forecasting) is a challenging and important problem. The solar energy generation forecasting problem is closely linked to the problem of weather variables forecasting. Indeed, this problem is usually split into two parts, on one hand focusing on the forecasting of solar PV or any other meteorological variable and on the other hand estimating the amount of energy that a concrete power plant will produce with the estimated meteorological resource. In general, the way to deal with this difficult problem is usually related to the spatial and temporal scales we are interested in. This tutorial focusses on a simplified forecasting model using previously generated data from solar panel to predict the future. \n",
    "\n",
    "Using historic daily production of a solar panel, we want to predict the total power production of the solar panel array for a day. We will be using the LSTM based time series prediction model to predict the daily output of a solar panel based on the initial readings of the day. \n",
    "\n",
    "\n",
    "\n",
    "We train the model with historical data of the solar panel. In our example we want to predict the total power production of the solar panel array for the day starting with the initial readings of the day. We start predicting after the first 2 readings and adjust the prediction with each new reading.\n",
    "\n"
   ]
  },
  {
   "cell_type": "markdown",
   "metadata": {},
   "source": [
    "## Code Walkthrough\n",
    "\n",
    "### Initialize environment\n"
   ]
  },
  {
   "cell_type": "code",
   "execution_count": 2,
   "metadata": {},
   "outputs": [
    {
     "name": "stderr",
     "output_type": "stream",
     "text": [
      "/home/demouser/anaconda3/lib/python3.6/site-packages/h5py/__init__.py:36: FutureWarning: Conversion of the second argument of issubdtype from `float` to `np.floating` is deprecated. In future, it will be treated as `np.float64 == np.dtype(float).type`.\n",
      "  from ._conv import register_converters as _register_converters\n"
     ]
    }
   ],
   "source": [
    "from matplotlib import pyplot as plt\n",
    "import math\n",
    "import numpy as np\n",
    "import os\n",
    "import pandas as pd\n",
    "import random\n",
    "import time\n",
    "from IPython.display import Image\n",
    "\n",
    "import tensorflow as tf\n",
    "\n",
    "%matplotlib inline\n",
    "\n",
    "\n",
    "# to make things reproduceable, seed random\n",
    "np.random.seed(0)\n"
   ]
  },
  {
   "cell_type": "markdown",
   "metadata": {},
   "source": [
    "### Data preparation\n",
    "\n",
    "Our solar panel, emits two measures at every 30 min interval:\n",
    "- `solar.current` is the current production in Watt\n",
    "- `solar.total` is the total produced for the day so far \n",
    "\n",
    "Our prediction approach involves starting with the first 2 initial readings of the day. Based on these readings we start predicting and adjust the prediction with each new reading. The training data we are going to use comes as a csv file and has the following format:\n",
    "\n",
    ">```\n",
    "time,solar.current,solar.total\n",
    "7am,6.3,1.7\n",
    "7:30am,44.3,11.4\n",
    "...\n",
    ">```\n",
    "\n",
    "The training dataset we use contains data captured for 3 years.\n",
    "The dataset is not pre-processed: it is raw data and contains smaller gaps and errors (like a panel failed to report).\n",
    "\n",
    "#### Pre-processing\n",
    "Most of the code in this example is related to data preparation. Thankfully the pandas library make this easy.\n",
    "\n",
    "`generate_solar_data()` function performs the following tasks:\n",
    "- read raw data into a pandas dataframe, \n",
    "- normalize the data, \n",
    "- groups by day and \n",
    "- append the columns \"solar.current.max\" and \"solar.total.max\", and\n",
    "- generates the sequences for each day.\n",
    "\n",
    "*Sequence generation*: All sequences are concatenated into a single list of sequences. There is *no more notion of timestamp* in our train input and **only** the sequences matter.\n",
    "\n",
    "**Note** if we have less than 8 datapoints for a day we skip over the day assuming something is missing in the raw data. If we get more than 14 data points in a day we truncate the readings.\n",
    "\n",
    "#### Training / Testing / Validation data preparation\n",
    "We start by reading the csv file for use with Tensorflow.  The raw data is sorted by time and we should randomize it before splitting into training, validation and test datasets but this would make it impractical to visualize results in the tutorial. Hence, we split the dataset in the following manner: pick in sequence, 8 values for training, 1 for validation and 1 for test until there is no more data. This will spread training, validation and test datasets across the full timeline while preserving time order.\n"
   ]
  },
  {
   "cell_type": "code",
   "execution_count": 3,
   "metadata": {},
   "outputs": [],
   "source": [
    "def generate_solar_data(dataset_path, time_steps, normalize=1, val_size=0.1, test_size=0.1):\n",
    "    \"\"\"\n",
    "    generate sequences to feed to rnn based on data frame with solar panel data\n",
    "    the csv has the format: time ,solar.current, solar.total\n",
    "     (solar.current is the current output in Watt, solar.total is the total production\n",
    "      for the day so far in Watt hours)\n",
    "    \"\"\"\n",
    "    \n",
    "    df = pd.read_csv(dataset_path, index_col=\"time\", parse_dates=['time'], dtype=np.float32)\n",
    "    \n",
    "    df[\"date\"] = df.index.date\n",
    "    \n",
    "    # normalize data\n",
    "    df['solar.current'] /= normalize\n",
    "    df['solar.total'] /= normalize\n",
    "    \n",
    "    # group by day, find the max for a day and add a new column .max\n",
    "    grouped = df.groupby(df.index.date).max()\n",
    "    grouped.columns = [\"solar.current.max\", \"solar.total.max\", \"date\"]\n",
    "\n",
    "    # merge continuous readings and daily max values into a single frame\n",
    "    df_merged = pd.merge(df, grouped, right_index=True, on=\"date\")\n",
    "    df_merged = df_merged[[\"solar.current\", \"solar.total\",\n",
    "                           \"solar.current.max\", \"solar.total.max\"]]\n",
    "    # we group by day so we can process a day at a time.\n",
    "    grouped = df_merged.groupby(df_merged.index.date)\n",
    "    per_day = []\n",
    "    for _, group in grouped:\n",
    "        per_day.append(group)\n",
    "\n",
    "    # split the dataset into train, validatation and test sets on day boundaries\n",
    "    val_size = int(len(per_day) * val_size)\n",
    "    test_size = int(len(per_day) * test_size)\n",
    "    next_val = 0\n",
    "    next_test = 0\n",
    "\n",
    "    result_x = {\"train\": [], \"val\": [], \"test\": []}\n",
    "    result_y = {\"train\": [], \"val\": [], \"test\": []}    \n",
    "\n",
    "    # generate sequences a day at a time\n",
    "    for i, day in enumerate(per_day):\n",
    "        # if we have less than 8 datapoints for a day we skip over the\n",
    "        # day assuming something is missing in the raw data\n",
    "        total = day[\"solar.total\"].values\n",
    "        if len(total) < 8:\n",
    "            continue\n",
    "        if i >= next_val:\n",
    "            current_set = \"val\"\n",
    "            next_val = i + int(len(per_day) / val_size)\n",
    "        elif i >= next_test:\n",
    "            current_set = \"test\"\n",
    "            next_test = i + int(len(per_day) / test_size)\n",
    "        else:\n",
    "            current_set = \"train\"\n",
    "        max_total_for_day = np.array(day[\"solar.total.max\"].values[0])\n",
    "        for j in range(2, len(total)):\n",
    "            result_x[current_set].append(total[0:j])\n",
    "            result_y[current_set].append([max_total_for_day])\n",
    "            if j >= time_steps:\n",
    "                break\n",
    "    # make result_y a numpy array\n",
    "    for ds in [\"train\", \"val\", \"test\"]:\n",
    "        result_y[ds] = np.array(result_y[ds])\n",
    "    return result_x, result_y"
   ]
  },
  {
   "cell_type": "code",
   "execution_count": null,
   "metadata": {},
   "outputs": [],
   "source": []
  }
 ],
 "metadata": {
  "kernelspec": {
   "display_name": "Python 3",
   "language": "python",
   "name": "python3"
  },
  "language_info": {
   "codemirror_mode": {
    "name": "ipython",
    "version": 3
   },
   "file_extension": ".py",
   "mimetype": "text/x-python",
   "name": "python",
   "nbconvert_exporter": "python",
   "pygments_lexer": "ipython3",
   "version": "3.6.4"
  }
 },
 "nbformat": 4,
 "nbformat_minor": 2
}
